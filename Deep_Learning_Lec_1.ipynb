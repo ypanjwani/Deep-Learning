{
  "nbformat": 4,
  "nbformat_minor": 0,
  "metadata": {
    "colab": {
      "provenance": [],
      "authorship_tag": "ABX9TyNDx9PEcv572YgXJGG6v6kT",
      "include_colab_link": true
    },
    "kernelspec": {
      "name": "python3",
      "display_name": "Python 3"
    },
    "language_info": {
      "name": "python"
    }
  },
  "cells": [
    {
      "cell_type": "markdown",
      "metadata": {
        "id": "view-in-github",
        "colab_type": "text"
      },
      "source": [
        "<a href=\"https://colab.research.google.com/github/ypanjwani/Deep-Learning/blob/main/Deep_Learning_Lec_1.ipynb\" target=\"_parent\"><img src=\"https://colab.research.google.com/assets/colab-badge.svg\" alt=\"Open In Colab\"/></a>"
      ]
    },
    {
      "cell_type": "code",
      "execution_count": 3,
      "metadata": {
        "colab": {
          "base_uri": "https://localhost:8080/"
        },
        "id": "eUKILn9HpV0A",
        "outputId": "0e973a38-16f3-4a7c-954f-da7999199119"
      },
      "outputs": [
        {
          "output_type": "stream",
          "name": "stdout",
          "text": [
            "Scaler : tf.Tensor(7, shape=(), dtype=int32)\n",
            "vector : tf.Tensor([1 2 3], shape=(3,), dtype=int32)\n",
            "Matrix : tf.Tensor(\n",
            "[[1 2]\n",
            " [3 4]], shape=(2, 2), dtype=int32)\n",
            "Tensor 3d : tf.Tensor(\n",
            "[[[1]\n",
            "  [2]]\n",
            "\n",
            " [[3]\n",
            "  [4]]], shape=(2, 2, 1), dtype=int32)\n"
          ]
        }
      ],
      "source": [
        "import tensorflow as tf\n",
        "\n",
        "#rank 0\n",
        "scalar=tf.constant(7)\n",
        "print(\"Scaler :\", scalar)\n",
        "\n",
        "#rank 1\n",
        "vector=tf.constant([1,2,3])\n",
        "print(\"vector :\", vector)\n",
        "\n",
        "#rank 2\n",
        "matrix=tf.constant([[1, 2], [3, 4]])\n",
        "print(\"Matrix :\", matrix)\n",
        "\n",
        "tensor3d=tf.constant([[[1], [2]], [[3], [4]]])\n",
        "print(\"Tensor 3d :\", tensor3d)"
      ]
    },
    {
      "cell_type": "code",
      "source": [],
      "metadata": {
        "id": "SRt-uNjkq8Je"
      },
      "execution_count": null,
      "outputs": []
    }
  ]
}